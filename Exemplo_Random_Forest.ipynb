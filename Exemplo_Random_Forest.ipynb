{
  "nbformat": 4,
  "nbformat_minor": 0,
  "metadata": {
    "colab": {
      "name": "Exemplo Random Forest.ipynb",
      "provenance": [],
      "authorship_tag": "ABX9TyOHNs7knRPZf87JMiG+FvVf",
      "include_colab_link": true
    },
    "kernelspec": {
      "name": "python3",
      "display_name": "Python 3"
    }
  },
  "cells": [
    {
      "cell_type": "markdown",
      "metadata": {
        "id": "view-in-github",
        "colab_type": "text"
      },
      "source": [
        "<a href=\"https://colab.research.google.com/github/GabrielSantanaC/analise-dados-inep/blob/entrega-5/Exemplo_Random_Forest.ipynb\" target=\"_parent\"><img src=\"https://colab.research.google.com/assets/colab-badge.svg\" alt=\"Open In Colab\"/></a>"
      ]
    },
    {
      "cell_type": "code",
      "metadata": {
        "id": "8SAxRJUIXJQI",
        "colab_type": "code",
        "colab": {}
      },
      "source": [
        "# importação de bibliotecas\n",
        "import pandas as pd\n",
        "from sklearn import datasets\n",
        "from sklearn.ensemble import RandomForestClassifier\n",
        "from sklearn.model_selection import train_test_split\n",
        "from sklearn.metrics import confusion_matrix, accuracy_score"
      ],
      "execution_count": 50,
      "outputs": []
    },
    {
      "cell_type": "code",
      "metadata": {
        "id": "NnQqUHHzbFny",
        "colab_type": "code",
        "colab": {
          "base_uri": "https://localhost:8080/",
          "height": 50
        },
        "outputId": "a835e3ef-8066-426c-be97-194c07a33313"
      },
      "source": [
        "iris = datasets.load_iris()\n",
        "print(iris.feature_names) # nome das caracteristicas\n",
        "print(iris.target_names) # nome das classes"
      ],
      "execution_count": 51,
      "outputs": [
        {
          "output_type": "stream",
          "text": [
            "['sepal length (cm)', 'sepal width (cm)', 'petal length (cm)', 'petal width (cm)']\n",
            "['setosa' 'versicolor' 'virginica']\n"
          ],
          "name": "stdout"
        }
      ]
    },
    {
      "cell_type": "code",
      "metadata": {
        "id": "qsl5i72Yfqqf",
        "colab_type": "code",
        "colab": {
          "base_uri": "https://localhost:8080/",
          "height": 201
        },
        "outputId": "11092a10-0b94-4531-baae-02b2585c8c4a"
      },
      "source": [
        "# Criação do DataFrame com pandas utilizando o dataset do sklearn\n",
        "data = pd.DataFrame({\n",
        "    'sepal lenght': iris.data[:, 0],\n",
        "    'sepal width': iris.data[:, 1],\n",
        "    'petal length': iris.data[:, 2],\n",
        "    'petal width': iris.data[:, 3],\n",
        "    'species': iris.target\n",
        "})\n",
        "data.head()"
      ],
      "execution_count": 52,
      "outputs": [
        {
          "output_type": "execute_result",
          "data": {
            "text/html": [
              "<div>\n",
              "<style scoped>\n",
              "    .dataframe tbody tr th:only-of-type {\n",
              "        vertical-align: middle;\n",
              "    }\n",
              "\n",
              "    .dataframe tbody tr th {\n",
              "        vertical-align: top;\n",
              "    }\n",
              "\n",
              "    .dataframe thead th {\n",
              "        text-align: right;\n",
              "    }\n",
              "</style>\n",
              "<table border=\"1\" class=\"dataframe\">\n",
              "  <thead>\n",
              "    <tr style=\"text-align: right;\">\n",
              "      <th></th>\n",
              "      <th>sepal lenght</th>\n",
              "      <th>sepal width</th>\n",
              "      <th>petal length</th>\n",
              "      <th>petal width</th>\n",
              "      <th>species</th>\n",
              "    </tr>\n",
              "  </thead>\n",
              "  <tbody>\n",
              "    <tr>\n",
              "      <th>0</th>\n",
              "      <td>5.1</td>\n",
              "      <td>3.5</td>\n",
              "      <td>1.4</td>\n",
              "      <td>0.2</td>\n",
              "      <td>0</td>\n",
              "    </tr>\n",
              "    <tr>\n",
              "      <th>1</th>\n",
              "      <td>4.9</td>\n",
              "      <td>3.0</td>\n",
              "      <td>1.4</td>\n",
              "      <td>0.2</td>\n",
              "      <td>0</td>\n",
              "    </tr>\n",
              "    <tr>\n",
              "      <th>2</th>\n",
              "      <td>4.7</td>\n",
              "      <td>3.2</td>\n",
              "      <td>1.3</td>\n",
              "      <td>0.2</td>\n",
              "      <td>0</td>\n",
              "    </tr>\n",
              "    <tr>\n",
              "      <th>3</th>\n",
              "      <td>4.6</td>\n",
              "      <td>3.1</td>\n",
              "      <td>1.5</td>\n",
              "      <td>0.2</td>\n",
              "      <td>0</td>\n",
              "    </tr>\n",
              "    <tr>\n",
              "      <th>4</th>\n",
              "      <td>5.0</td>\n",
              "      <td>3.6</td>\n",
              "      <td>1.4</td>\n",
              "      <td>0.2</td>\n",
              "      <td>0</td>\n",
              "    </tr>\n",
              "  </tbody>\n",
              "</table>\n",
              "</div>"
            ],
            "text/plain": [
              "   sepal lenght  sepal width  petal length  petal width  species\n",
              "0           5.1          3.5           1.4          0.2        0\n",
              "1           4.9          3.0           1.4          0.2        0\n",
              "2           4.7          3.2           1.3          0.2        0\n",
              "3           4.6          3.1           1.5          0.2        0\n",
              "4           5.0          3.6           1.4          0.2        0"
            ]
          },
          "metadata": {
            "tags": []
          },
          "execution_count": 52
        }
      ]
    },
    {
      "cell_type": "code",
      "metadata": {
        "id": "t9557GBTiP6t",
        "colab_type": "code",
        "colab": {}
      },
      "source": [
        "# Dividindo base em variavel preditora e classificatória\n",
        "previsores = data.iloc[:, 0:4] # poderia ser iris.data\n",
        "classe = data.iloc[:, 4] # poderia ser iris.target\n"
      ],
      "execution_count": 53,
      "outputs": []
    },
    {
      "cell_type": "code",
      "metadata": {
        "id": "nOFYnihWgrYd",
        "colab_type": "code",
        "colab": {}
      },
      "source": [
        "# Divisão da base de dados em 70% treino e 30% teste\n",
        "xtreino, xteste, ytreino, yteste = train_test_split(previsores,\n",
        "                                                    classe,\n",
        "                                                    test_size = 0.3) # xteste e yteste ficam com 30%"
      ],
      "execution_count": 54,
      "outputs": []
    },
    {
      "cell_type": "code",
      "metadata": {
        "id": "wFdmsE64jMJ7",
        "colab_type": "code",
        "colab": {
          "base_uri": "https://localhost:8080/",
          "height": 149
        },
        "outputId": "623f70e6-043a-4e60-a963-bcee29798ceb"
      },
      "source": [
        "# Criação da floresta e treinamento\n",
        "floresta = RandomForestClassifier(n_estimators=20) # Definido 20 arvores na floresta\n",
        "floresta.fit(xtreino,ytreino)"
      ],
      "execution_count": 55,
      "outputs": [
        {
          "output_type": "execute_result",
          "data": {
            "text/plain": [
              "RandomForestClassifier(bootstrap=True, ccp_alpha=0.0, class_weight=None,\n",
              "                       criterion='gini', max_depth=None, max_features='auto',\n",
              "                       max_leaf_nodes=None, max_samples=None,\n",
              "                       min_impurity_decrease=0.0, min_impurity_split=None,\n",
              "                       min_samples_leaf=1, min_samples_split=2,\n",
              "                       min_weight_fraction_leaf=0.0, n_estimators=20,\n",
              "                       n_jobs=None, oob_score=False, random_state=None,\n",
              "                       verbose=0, warm_start=False)"
            ]
          },
          "metadata": {
            "tags": []
          },
          "execution_count": 55
        }
      ]
    },
    {
      "cell_type": "code",
      "metadata": {
        "id": "JCyEJkFCmToB",
        "colab_type": "code",
        "colab": {
          "base_uri": "https://localhost:8080/",
          "height": 83
        },
        "outputId": "474d7d92-8f95-4754-8786-dfe2815032a9"
      },
      "source": [
        "# Previsão de xteste (30% dos dados)\n",
        "previsao = floresta.predict(xteste)\n",
        "\n",
        "# Criação de matriz de confusão\n",
        "matriz_confusao = confusion_matrix(previsao,yteste)\n",
        "# Taxa de acerto em porcentagem\n",
        "acerto = accuracy_score(previsao, yteste)\n",
        "print(matriz_confusao)\n",
        "print('Acerto: {}'.format(acerto))"
      ],
      "execution_count": 60,
      "outputs": [
        {
          "output_type": "stream",
          "text": [
            "[[13  0  0]\n",
            " [ 0 16  1]\n",
            " [ 0  1 14]]\n",
            "Acerto: 0.9555555555555556\n"
          ],
          "name": "stdout"
        }
      ]
    }
  ]
}